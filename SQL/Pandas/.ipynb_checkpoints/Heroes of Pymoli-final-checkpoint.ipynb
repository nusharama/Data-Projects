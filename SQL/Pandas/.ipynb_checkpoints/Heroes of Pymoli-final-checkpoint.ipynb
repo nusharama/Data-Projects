{
 "cells": [
  {
   "cell_type": "code",
   "execution_count": 336,
   "metadata": {},
   "outputs": [],
   "source": [
    "# Dependencies and Setup\n",
    "import pandas as pd\n",
    "import numpy as np\n",
    "\n",
    "# File to Load (Remember to Change These)\n",
    "file_to_load = \"purchase_data.csv\"\n",
    "\n",
    "# Read Purchasing File and store into Pandas data frame\n",
    "purchase_data = pd.read_csv(file_to_load)"
   ]
  },
  {
   "cell_type": "code",
   "execution_count": 337,
   "metadata": {},
   "outputs": [
    {
     "data": {
      "text/html": [
       "<div>\n",
       "<style scoped>\n",
       "    .dataframe tbody tr th:only-of-type {\n",
       "        vertical-align: middle;\n",
       "    }\n",
       "\n",
       "    .dataframe tbody tr th {\n",
       "        vertical-align: top;\n",
       "    }\n",
       "\n",
       "    .dataframe thead th {\n",
       "        text-align: right;\n",
       "    }\n",
       "</style>\n",
       "<table border=\"1\" class=\"dataframe\">\n",
       "  <thead>\n",
       "    <tr style=\"text-align: right;\">\n",
       "      <th></th>\n",
       "      <th>Total Players</th>\n",
       "    </tr>\n",
       "  </thead>\n",
       "  <tbody>\n",
       "    <tr>\n",
       "      <th>0</th>\n",
       "      <td>576</td>\n",
       "    </tr>\n",
       "  </tbody>\n",
       "</table>\n",
       "</div>"
      ],
      "text/plain": [
       "   Total Players\n",
       "0            576"
      ]
     },
     "execution_count": 337,
     "metadata": {},
     "output_type": "execute_result"
    }
   ],
   "source": [
    "#Player Count\n",
    " \n",
    "#Display the total number of players\n",
    "total_players = len(purchase_data[\"SN\"].value_counts())\n",
    "\n",
    "player_count_df = pd.DataFrame({\"Total Players\": [total_players]})\n",
    "player_count_df"
   ]
  },
  {
   "cell_type": "code",
   "execution_count": 338,
   "metadata": {},
   "outputs": [
    {
     "data": {
      "text/html": [
       "<style  type=\"text/css\" >\n",
       "</style><table id=\"T_13f16ac0_78ec_11e9_ab75_3c950963804a\" ><thead>    <tr>        <th class=\"blank level0\" ></th>        <th class=\"col_heading level0 col0\" >Number of Unique Items</th>        <th class=\"col_heading level0 col1\" >Average Purchase Price</th>        <th class=\"col_heading level0 col2\" >Total Purchases</th>        <th class=\"col_heading level0 col3\" >Total Revenue</th>    </tr></thead><tbody>\n",
       "                <tr>\n",
       "                        <th id=\"T_13f16ac0_78ec_11e9_ab75_3c950963804alevel0_row0\" class=\"row_heading level0 row0\" >0</th>\n",
       "                        <td id=\"T_13f16ac0_78ec_11e9_ab75_3c950963804arow0_col0\" class=\"data row0 col0\" >183</td>\n",
       "                        <td id=\"T_13f16ac0_78ec_11e9_ab75_3c950963804arow0_col1\" class=\"data row0 col1\" >$3.05</td>\n",
       "                        <td id=\"T_13f16ac0_78ec_11e9_ab75_3c950963804arow0_col2\" class=\"data row0 col2\" >780</td>\n",
       "                        <td id=\"T_13f16ac0_78ec_11e9_ab75_3c950963804arow0_col3\" class=\"data row0 col3\" >$2379.77</td>\n",
       "            </tr>\n",
       "    </tbody></table>"
      ],
      "text/plain": [
       "<pandas.io.formats.style.Styler at 0x1a0f9307860>"
      ]
     },
     "execution_count": 338,
     "metadata": {},
     "output_type": "execute_result"
    }
   ],
   "source": [
    "# Purchasing Analysis (Total)\n",
    "\n",
    "# Number of Unique Items\n",
    "number_unique_items = len(purchase_data[\"Item ID\"].unique())\n",
    "\n",
    "# Average Purchase Price\n",
    "avg_purchase_price = (purchase_data[\"Price\"]).mean()\n",
    "\n",
    "# Total Number of Purchases\n",
    "total_purchases = (purchase_data[\"Purchase ID\"]).count()\n",
    "\n",
    "# Total Revenue\n",
    "total_revenue = (purchase_data[\"Price\"]).sum()\n",
    "\n",
    "#display summary data\n",
    "summary_table_df = pd.DataFrame({\"Number of Unique Items\":[number_unique_items],\n",
    "                          \"Average Purchase Price\":[avg_purchase_price],\n",
    "                          \"Total Purchases\":[total_purchases],\n",
    "                          \"Total Revenue\":[total_revenue]})\n",
    "# Format Summary data\n",
    "summary_table_df.style.format({\"Average Purchase Price\":\"${:.2f}\",\n",
    "                         \"Total Revenue\": \"${:.2f}\"})\n"
   ]
  },
  {
   "cell_type": "code",
   "execution_count": 339,
   "metadata": {},
   "outputs": [
    {
     "name": "stdout",
     "output_type": "stream",
     "text": [
      "<pandas.core.groupby.generic.DataFrameGroupBy object at 0x000001A0F9307588>\n"
     ]
    },
    {
     "data": {
      "text/html": [
       "<style  type=\"text/css\" >\n",
       "</style><table id=\"T_13f7b552_78ec_11e9_87e8_3c950963804a\" ><thead>    <tr>        <th class=\"blank level0\" ></th>        <th class=\"col_heading level0 col0\" >Percentage of Players</th>        <th class=\"col_heading level0 col1\" >Total Count</th>    </tr>    <tr>        <th class=\"index_name level0\" >Gender</th>        <th class=\"blank\" ></th>        <th class=\"blank\" ></th>    </tr></thead><tbody>\n",
       "                <tr>\n",
       "                        <th id=\"T_13f7b552_78ec_11e9_87e8_3c950963804alevel0_row0\" class=\"row_heading level0 row0\" >Female</th>\n",
       "                        <td id=\"T_13f7b552_78ec_11e9_87e8_3c950963804arow0_col0\" class=\"data row0 col0\" >14.06</td>\n",
       "                        <td id=\"T_13f7b552_78ec_11e9_87e8_3c950963804arow0_col1\" class=\"data row0 col1\" >81</td>\n",
       "            </tr>\n",
       "            <tr>\n",
       "                        <th id=\"T_13f7b552_78ec_11e9_87e8_3c950963804alevel0_row1\" class=\"row_heading level0 row1\" >Male</th>\n",
       "                        <td id=\"T_13f7b552_78ec_11e9_87e8_3c950963804arow1_col0\" class=\"data row1 col0\" >84.03</td>\n",
       "                        <td id=\"T_13f7b552_78ec_11e9_87e8_3c950963804arow1_col1\" class=\"data row1 col1\" >484</td>\n",
       "            </tr>\n",
       "            <tr>\n",
       "                        <th id=\"T_13f7b552_78ec_11e9_87e8_3c950963804alevel0_row2\" class=\"row_heading level0 row2\" >Other / Non-Disclosed</th>\n",
       "                        <td id=\"T_13f7b552_78ec_11e9_87e8_3c950963804arow2_col0\" class=\"data row2 col0\" >1.91</td>\n",
       "                        <td id=\"T_13f7b552_78ec_11e9_87e8_3c950963804arow2_col1\" class=\"data row2 col1\" >11</td>\n",
       "            </tr>\n",
       "    </tbody></table>"
      ],
      "text/plain": [
       "<pandas.io.formats.style.Styler at 0x1a0f9287550>"
      ]
     },
     "execution_count": 339,
     "metadata": {},
     "output_type": "execute_result"
    }
   ],
   "source": [
    "#  Gender Demographics\n",
    " \n",
    "# Percentage and Count of Male Players\n",
    "gender_status = purchase_data.groupby([\"Gender\"])\n",
    "print(gender_status)\n",
    "gender_status.count()\n",
    "# Percentage and Count of Female Players\n",
    "total_count_gender = gender_status.nunique()[\"SN\"]\n",
    "\n",
    "# Percentage and Count of Other / Non-Disclosed\n",
    "\n",
    "percentage_players = total_count_gender / total_players*100\n",
    "\n",
    "demographics_age = pd.DataFrame({\"Percentage of Players\":percentage_players, \"Total Count\":total_count_gender})\n",
    "demographics_age.style.format({\"Percentage of Players\":\"{:.2f}\"})"
   ]
  },
  {
   "cell_type": "code",
   "execution_count": 340,
   "metadata": {},
   "outputs": [
    {
     "data": {
      "text/html": [
       "<style  type=\"text/css\" >\n",
       "</style><table id=\"T_13fb355c_78ec_11e9_8cbd_3c950963804a\" ><thead>    <tr>        <th class=\"blank level0\" ></th>        <th class=\"col_heading level0 col0\" >Purchase Count</th>        <th class=\"col_heading level0 col1\" >Average Purchase Price</th>        <th class=\"col_heading level0 col2\" >Total Purchase Value</th>        <th class=\"col_heading level0 col3\" >Avg Total Purchase per Person</th>    </tr>    <tr>        <th class=\"index_name level0\" >Gender</th>        <th class=\"blank\" ></th>        <th class=\"blank\" ></th>        <th class=\"blank\" ></th>        <th class=\"blank\" ></th>    </tr></thead><tbody>\n",
       "                <tr>\n",
       "                        <th id=\"T_13fb355c_78ec_11e9_8cbd_3c950963804alevel0_row0\" class=\"row_heading level0 row0\" >Female</th>\n",
       "                        <td id=\"T_13fb355c_78ec_11e9_8cbd_3c950963804arow0_col0\" class=\"data row0 col0\" >113</td>\n",
       "                        <td id=\"T_13fb355c_78ec_11e9_8cbd_3c950963804arow0_col1\" class=\"data row0 col1\" >$3.20</td>\n",
       "                        <td id=\"T_13fb355c_78ec_11e9_8cbd_3c950963804arow0_col2\" class=\"data row0 col2\" >$361.94</td>\n",
       "                        <td id=\"T_13fb355c_78ec_11e9_8cbd_3c950963804arow0_col3\" class=\"data row0 col3\" >$4.47</td>\n",
       "            </tr>\n",
       "            <tr>\n",
       "                        <th id=\"T_13fb355c_78ec_11e9_8cbd_3c950963804alevel0_row1\" class=\"row_heading level0 row1\" >Male</th>\n",
       "                        <td id=\"T_13fb355c_78ec_11e9_8cbd_3c950963804arow1_col0\" class=\"data row1 col0\" >652</td>\n",
       "                        <td id=\"T_13fb355c_78ec_11e9_8cbd_3c950963804arow1_col1\" class=\"data row1 col1\" >$3.02</td>\n",
       "                        <td id=\"T_13fb355c_78ec_11e9_8cbd_3c950963804arow1_col2\" class=\"data row1 col2\" >$1,967.64</td>\n",
       "                        <td id=\"T_13fb355c_78ec_11e9_8cbd_3c950963804arow1_col3\" class=\"data row1 col3\" >$4.07</td>\n",
       "            </tr>\n",
       "            <tr>\n",
       "                        <th id=\"T_13fb355c_78ec_11e9_8cbd_3c950963804alevel0_row2\" class=\"row_heading level0 row2\" >Other / Non-Disclosed</th>\n",
       "                        <td id=\"T_13fb355c_78ec_11e9_8cbd_3c950963804arow2_col0\" class=\"data row2 col0\" >15</td>\n",
       "                        <td id=\"T_13fb355c_78ec_11e9_8cbd_3c950963804arow2_col1\" class=\"data row2 col1\" >$3.35</td>\n",
       "                        <td id=\"T_13fb355c_78ec_11e9_8cbd_3c950963804arow2_col2\" class=\"data row2 col2\" >$50.19</td>\n",
       "                        <td id=\"T_13fb355c_78ec_11e9_8cbd_3c950963804arow2_col3\" class=\"data row2 col3\" >$4.56</td>\n",
       "            </tr>\n",
       "    </tbody></table>"
      ],
      "text/plain": [
       "<pandas.io.formats.style.Styler at 0x1a0f9257b38>"
      ]
     },
     "execution_count": 340,
     "metadata": {},
     "output_type": "execute_result"
    }
   ],
   "source": [
    "# Purchasing Analysis (Gender)\n",
    " \n",
    "# Run basic calculations to obtain purchase count, avg. purchase price, avg. purchase total per person etc. by gender\n",
    "\n",
    "purchase_count = gender_status[\"Purchase ID\"].count()\n",
    "average_purchase_price = gender_status[\"Price\"].mean()\n",
    "average_purchase_total = gender_status[\"Price\"].sum()\n",
    "\n",
    "average_total_per_person = average_purchase_total/total_count_gender\n",
    "\n",
    "# Create a summary data frame to hold the results\n",
    "gender_demographics = pd.DataFrame({\"Purchase Count\":purchase_count, \"Average Purchase Price\":average_purchase_price, \n",
    "                                    \"Total Purchase Value\":average_purchase_total, \"Avg Total Purchase per Person\":average_total_per_person})\n",
    "\n",
    "# Optional: give the displayed data cleaner formatting\n",
    "# Display the summary data frame\n",
    "gender_demographics.style.format({\"Average Purchase Price\":\"${:.2f}\",\n",
    "                         \"Total Purchase Value\": \"${:,.2f}\",\n",
    "                        \"Avg Total Purchase per Person\": \"${:.2f}\"})"
   ]
  },
  {
   "cell_type": "code",
   "execution_count": 341,
   "metadata": {},
   "outputs": [
    {
     "data": {
      "text/html": [
       "<style  type=\"text/css\" >\n",
       "</style><table id=\"T_1400d6d0_78ec_11e9_92fd_3c950963804a\" ><thead>    <tr>        <th class=\"blank level0\" ></th>        <th class=\"col_heading level0 col0\" >Purchase Count</th>        <th class=\"col_heading level0 col1\" >Average Purchase Price</th>        <th class=\"col_heading level0 col2\" >Total Purchase Value</th>        <th class=\"col_heading level0 col3\" >Avg Total Purchase Per Person</th>    </tr>    <tr>        <th class=\"index_name level0\" >Age Group</th>        <th class=\"blank\" ></th>        <th class=\"blank\" ></th>        <th class=\"blank\" ></th>        <th class=\"blank\" ></th>    </tr></thead><tbody>\n",
       "                <tr>\n",
       "                        <th id=\"T_1400d6d0_78ec_11e9_92fd_3c950963804alevel0_row0\" class=\"row_heading level0 row0\" ><10</th>\n",
       "                        <td id=\"T_1400d6d0_78ec_11e9_92fd_3c950963804arow0_col0\" class=\"data row0 col0\" >23</td>\n",
       "                        <td id=\"T_1400d6d0_78ec_11e9_92fd_3c950963804arow0_col1\" class=\"data row0 col1\" >3.35348</td>\n",
       "                        <td id=\"T_1400d6d0_78ec_11e9_92fd_3c950963804arow0_col2\" class=\"data row0 col2\" >77.13</td>\n",
       "                        <td id=\"T_1400d6d0_78ec_11e9_92fd_3c950963804arow0_col3\" class=\"data row0 col3\" >4.53706</td>\n",
       "            </tr>\n",
       "            <tr>\n",
       "                        <th id=\"T_1400d6d0_78ec_11e9_92fd_3c950963804alevel0_row1\" class=\"row_heading level0 row1\" >10-14</th>\n",
       "                        <td id=\"T_1400d6d0_78ec_11e9_92fd_3c950963804arow1_col0\" class=\"data row1 col0\" >28</td>\n",
       "                        <td id=\"T_1400d6d0_78ec_11e9_92fd_3c950963804arow1_col1\" class=\"data row1 col1\" >2.95643</td>\n",
       "                        <td id=\"T_1400d6d0_78ec_11e9_92fd_3c950963804arow1_col2\" class=\"data row1 col2\" >82.78</td>\n",
       "                        <td id=\"T_1400d6d0_78ec_11e9_92fd_3c950963804arow1_col3\" class=\"data row1 col3\" >3.76273</td>\n",
       "            </tr>\n",
       "            <tr>\n",
       "                        <th id=\"T_1400d6d0_78ec_11e9_92fd_3c950963804alevel0_row2\" class=\"row_heading level0 row2\" >15-19</th>\n",
       "                        <td id=\"T_1400d6d0_78ec_11e9_92fd_3c950963804arow2_col0\" class=\"data row2 col0\" >136</td>\n",
       "                        <td id=\"T_1400d6d0_78ec_11e9_92fd_3c950963804arow2_col1\" class=\"data row2 col1\" >3.03596</td>\n",
       "                        <td id=\"T_1400d6d0_78ec_11e9_92fd_3c950963804arow2_col2\" class=\"data row2 col2\" >412.89</td>\n",
       "                        <td id=\"T_1400d6d0_78ec_11e9_92fd_3c950963804arow2_col3\" class=\"data row2 col3\" >3.85879</td>\n",
       "            </tr>\n",
       "            <tr>\n",
       "                        <th id=\"T_1400d6d0_78ec_11e9_92fd_3c950963804alevel0_row3\" class=\"row_heading level0 row3\" >20-24</th>\n",
       "                        <td id=\"T_1400d6d0_78ec_11e9_92fd_3c950963804arow3_col0\" class=\"data row3 col0\" >365</td>\n",
       "                        <td id=\"T_1400d6d0_78ec_11e9_92fd_3c950963804arow3_col1\" class=\"data row3 col1\" >3.05222</td>\n",
       "                        <td id=\"T_1400d6d0_78ec_11e9_92fd_3c950963804arow3_col2\" class=\"data row3 col2\" >1114.06</td>\n",
       "                        <td id=\"T_1400d6d0_78ec_11e9_92fd_3c950963804arow3_col3\" class=\"data row3 col3\" >4.31806</td>\n",
       "            </tr>\n",
       "            <tr>\n",
       "                        <th id=\"T_1400d6d0_78ec_11e9_92fd_3c950963804alevel0_row4\" class=\"row_heading level0 row4\" >25-29</th>\n",
       "                        <td id=\"T_1400d6d0_78ec_11e9_92fd_3c950963804arow4_col0\" class=\"data row4 col0\" >101</td>\n",
       "                        <td id=\"T_1400d6d0_78ec_11e9_92fd_3c950963804arow4_col1\" class=\"data row4 col1\" >2.90099</td>\n",
       "                        <td id=\"T_1400d6d0_78ec_11e9_92fd_3c950963804arow4_col2\" class=\"data row4 col2\" >293</td>\n",
       "                        <td id=\"T_1400d6d0_78ec_11e9_92fd_3c950963804arow4_col3\" class=\"data row4 col3\" >3.80519</td>\n",
       "            </tr>\n",
       "            <tr>\n",
       "                        <th id=\"T_1400d6d0_78ec_11e9_92fd_3c950963804alevel0_row5\" class=\"row_heading level0 row5\" >30-34</th>\n",
       "                        <td id=\"T_1400d6d0_78ec_11e9_92fd_3c950963804arow5_col0\" class=\"data row5 col0\" >73</td>\n",
       "                        <td id=\"T_1400d6d0_78ec_11e9_92fd_3c950963804arow5_col1\" class=\"data row5 col1\" >2.93151</td>\n",
       "                        <td id=\"T_1400d6d0_78ec_11e9_92fd_3c950963804arow5_col2\" class=\"data row5 col2\" >214</td>\n",
       "                        <td id=\"T_1400d6d0_78ec_11e9_92fd_3c950963804arow5_col3\" class=\"data row5 col3\" >4.11538</td>\n",
       "            </tr>\n",
       "            <tr>\n",
       "                        <th id=\"T_1400d6d0_78ec_11e9_92fd_3c950963804alevel0_row6\" class=\"row_heading level0 row6\" >35-39</th>\n",
       "                        <td id=\"T_1400d6d0_78ec_11e9_92fd_3c950963804arow6_col0\" class=\"data row6 col0\" >41</td>\n",
       "                        <td id=\"T_1400d6d0_78ec_11e9_92fd_3c950963804arow6_col1\" class=\"data row6 col1\" >3.60171</td>\n",
       "                        <td id=\"T_1400d6d0_78ec_11e9_92fd_3c950963804arow6_col2\" class=\"data row6 col2\" >147.67</td>\n",
       "                        <td id=\"T_1400d6d0_78ec_11e9_92fd_3c950963804arow6_col3\" class=\"data row6 col3\" >4.76355</td>\n",
       "            </tr>\n",
       "            <tr>\n",
       "                        <th id=\"T_1400d6d0_78ec_11e9_92fd_3c950963804alevel0_row7\" class=\"row_heading level0 row7\" >40+</th>\n",
       "                        <td id=\"T_1400d6d0_78ec_11e9_92fd_3c950963804arow7_col0\" class=\"data row7 col0\" >13</td>\n",
       "                        <td id=\"T_1400d6d0_78ec_11e9_92fd_3c950963804arow7_col1\" class=\"data row7 col1\" >2.94154</td>\n",
       "                        <td id=\"T_1400d6d0_78ec_11e9_92fd_3c950963804arow7_col2\" class=\"data row7 col2\" >38.24</td>\n",
       "                        <td id=\"T_1400d6d0_78ec_11e9_92fd_3c950963804arow7_col3\" class=\"data row7 col3\" >3.18667</td>\n",
       "            </tr>\n",
       "    </tbody></table>"
      ],
      "text/plain": [
       "<pandas.io.formats.style.Styler at 0x1a0f9257940>"
      ]
     },
     "execution_count": 341,
     "metadata": {},
     "output_type": "execute_result"
    }
   ],
   "source": [
    "# Age Demographics\n",
    " \n",
    "# Establish bins for ages\n",
    "age_bin =[0, 9, 14, 19, 24, 29, 34, 39, 100]\n",
    "group_bins =[\"<10\", \"10-14\", \"15-19\", \"20-24\", \"25-29\", \"30-34\", \"35-39\", \"40+\"]\n",
    "\n",
    "# Categorize the existing players using the age bins. Hint: use pd.cut()\n",
    "purchase_data[\"Age Group\"]=pd.cut(purchase_data[\"Age\"], age_bin, labels=group_bins)\n",
    "purchase_data\n",
    "\n",
    "# Calculate the numbers and percentages by age group\n",
    "age_group = purchase_data.groupby(\"Age Group\")\n",
    "\n",
    "total_count_age = age_group[\"SN\"].nunique()\n",
    "\n",
    "percentage_by_age_group = (total_count_age/total_players) * 100\n",
    "\n",
    "# Create a summary data frame to hold the results\n",
    "age_summary = pd.DataFrame ({\"Percentage of Players\":percentage_by_age_group,\n",
    "                            \"Total Count\": total_count_age})\n",
    "\n",
    "# Optional: round the percentage column to two decimal points\n",
    "\n",
    "# Display Age Demographics Table\n",
    "age_demographics.style.format ({\"Percentage of Players\":\"${:.2f}\"})"
   ]
  },
  {
   "cell_type": "code",
   "execution_count": 342,
   "metadata": {},
   "outputs": [
    {
     "data": {
      "text/html": [
       "<style  type=\"text/css\" >\n",
       "</style><table id=\"T_1404f3b6_78ec_11e9_8308_3c950963804a\" ><thead>    <tr>        <th class=\"blank level0\" ></th>        <th class=\"col_heading level0 col0\" >Purchase Count</th>        <th class=\"col_heading level0 col1\" >Average Purchase Price</th>        <th class=\"col_heading level0 col2\" >Total Purchase Value</th>        <th class=\"col_heading level0 col3\" >Avg Total Purchase Per Person</th>    </tr>    <tr>        <th class=\"index_name level0\" >Age Group</th>        <th class=\"blank\" ></th>        <th class=\"blank\" ></th>        <th class=\"blank\" ></th>        <th class=\"blank\" ></th>    </tr></thead><tbody>\n",
       "                <tr>\n",
       "                        <th id=\"T_1404f3b6_78ec_11e9_8308_3c950963804alevel0_row0\" class=\"row_heading level0 row0\" ><10</th>\n",
       "                        <td id=\"T_1404f3b6_78ec_11e9_8308_3c950963804arow0_col0\" class=\"data row0 col0\" >$23.00</td>\n",
       "                        <td id=\"T_1404f3b6_78ec_11e9_8308_3c950963804arow0_col1\" class=\"data row0 col1\" >$3.35</td>\n",
       "                        <td id=\"T_1404f3b6_78ec_11e9_8308_3c950963804arow0_col2\" class=\"data row0 col2\" >$77.13</td>\n",
       "                        <td id=\"T_1404f3b6_78ec_11e9_8308_3c950963804arow0_col3\" class=\"data row0 col3\" >$4.54</td>\n",
       "            </tr>\n",
       "            <tr>\n",
       "                        <th id=\"T_1404f3b6_78ec_11e9_8308_3c950963804alevel0_row1\" class=\"row_heading level0 row1\" >10-14</th>\n",
       "                        <td id=\"T_1404f3b6_78ec_11e9_8308_3c950963804arow1_col0\" class=\"data row1 col0\" >$28.00</td>\n",
       "                        <td id=\"T_1404f3b6_78ec_11e9_8308_3c950963804arow1_col1\" class=\"data row1 col1\" >$2.96</td>\n",
       "                        <td id=\"T_1404f3b6_78ec_11e9_8308_3c950963804arow1_col2\" class=\"data row1 col2\" >$82.78</td>\n",
       "                        <td id=\"T_1404f3b6_78ec_11e9_8308_3c950963804arow1_col3\" class=\"data row1 col3\" >$3.76</td>\n",
       "            </tr>\n",
       "            <tr>\n",
       "                        <th id=\"T_1404f3b6_78ec_11e9_8308_3c950963804alevel0_row2\" class=\"row_heading level0 row2\" >15-19</th>\n",
       "                        <td id=\"T_1404f3b6_78ec_11e9_8308_3c950963804arow2_col0\" class=\"data row2 col0\" >$136.00</td>\n",
       "                        <td id=\"T_1404f3b6_78ec_11e9_8308_3c950963804arow2_col1\" class=\"data row2 col1\" >$3.04</td>\n",
       "                        <td id=\"T_1404f3b6_78ec_11e9_8308_3c950963804arow2_col2\" class=\"data row2 col2\" >$412.89</td>\n",
       "                        <td id=\"T_1404f3b6_78ec_11e9_8308_3c950963804arow2_col3\" class=\"data row2 col3\" >$3.86</td>\n",
       "            </tr>\n",
       "            <tr>\n",
       "                        <th id=\"T_1404f3b6_78ec_11e9_8308_3c950963804alevel0_row3\" class=\"row_heading level0 row3\" >20-24</th>\n",
       "                        <td id=\"T_1404f3b6_78ec_11e9_8308_3c950963804arow3_col0\" class=\"data row3 col0\" >$365.00</td>\n",
       "                        <td id=\"T_1404f3b6_78ec_11e9_8308_3c950963804arow3_col1\" class=\"data row3 col1\" >$3.05</td>\n",
       "                        <td id=\"T_1404f3b6_78ec_11e9_8308_3c950963804arow3_col2\" class=\"data row3 col2\" >$1114.06</td>\n",
       "                        <td id=\"T_1404f3b6_78ec_11e9_8308_3c950963804arow3_col3\" class=\"data row3 col3\" >$4.32</td>\n",
       "            </tr>\n",
       "            <tr>\n",
       "                        <th id=\"T_1404f3b6_78ec_11e9_8308_3c950963804alevel0_row4\" class=\"row_heading level0 row4\" >25-29</th>\n",
       "                        <td id=\"T_1404f3b6_78ec_11e9_8308_3c950963804arow4_col0\" class=\"data row4 col0\" >$101.00</td>\n",
       "                        <td id=\"T_1404f3b6_78ec_11e9_8308_3c950963804arow4_col1\" class=\"data row4 col1\" >$2.90</td>\n",
       "                        <td id=\"T_1404f3b6_78ec_11e9_8308_3c950963804arow4_col2\" class=\"data row4 col2\" >$293.00</td>\n",
       "                        <td id=\"T_1404f3b6_78ec_11e9_8308_3c950963804arow4_col3\" class=\"data row4 col3\" >$3.81</td>\n",
       "            </tr>\n",
       "            <tr>\n",
       "                        <th id=\"T_1404f3b6_78ec_11e9_8308_3c950963804alevel0_row5\" class=\"row_heading level0 row5\" >30-34</th>\n",
       "                        <td id=\"T_1404f3b6_78ec_11e9_8308_3c950963804arow5_col0\" class=\"data row5 col0\" >$73.00</td>\n",
       "                        <td id=\"T_1404f3b6_78ec_11e9_8308_3c950963804arow5_col1\" class=\"data row5 col1\" >$2.93</td>\n",
       "                        <td id=\"T_1404f3b6_78ec_11e9_8308_3c950963804arow5_col2\" class=\"data row5 col2\" >$214.00</td>\n",
       "                        <td id=\"T_1404f3b6_78ec_11e9_8308_3c950963804arow5_col3\" class=\"data row5 col3\" >$4.12</td>\n",
       "            </tr>\n",
       "            <tr>\n",
       "                        <th id=\"T_1404f3b6_78ec_11e9_8308_3c950963804alevel0_row6\" class=\"row_heading level0 row6\" >35-39</th>\n",
       "                        <td id=\"T_1404f3b6_78ec_11e9_8308_3c950963804arow6_col0\" class=\"data row6 col0\" >$41.00</td>\n",
       "                        <td id=\"T_1404f3b6_78ec_11e9_8308_3c950963804arow6_col1\" class=\"data row6 col1\" >$3.60</td>\n",
       "                        <td id=\"T_1404f3b6_78ec_11e9_8308_3c950963804arow6_col2\" class=\"data row6 col2\" >$147.67</td>\n",
       "                        <td id=\"T_1404f3b6_78ec_11e9_8308_3c950963804arow6_col3\" class=\"data row6 col3\" >$4.76</td>\n",
       "            </tr>\n",
       "            <tr>\n",
       "                        <th id=\"T_1404f3b6_78ec_11e9_8308_3c950963804alevel0_row7\" class=\"row_heading level0 row7\" >40+</th>\n",
       "                        <td id=\"T_1404f3b6_78ec_11e9_8308_3c950963804arow7_col0\" class=\"data row7 col0\" >$13.00</td>\n",
       "                        <td id=\"T_1404f3b6_78ec_11e9_8308_3c950963804arow7_col1\" class=\"data row7 col1\" >$2.94</td>\n",
       "                        <td id=\"T_1404f3b6_78ec_11e9_8308_3c950963804arow7_col2\" class=\"data row7 col2\" >$38.24</td>\n",
       "                        <td id=\"T_1404f3b6_78ec_11e9_8308_3c950963804arow7_col3\" class=\"data row7 col3\" >$3.19</td>\n",
       "            </tr>\n",
       "    </tbody></table>"
      ],
      "text/plain": [
       "<pandas.io.formats.style.Styler at 0x1a0f920a470>"
      ]
     },
     "execution_count": 342,
     "metadata": {},
     "output_type": "execute_result"
    }
   ],
   "source": [
    "# Purchasing Analysis (Age)\n",
    "# The below each broken into bins of 4 years (i.e. <10, 10-14, 15-19, etc.)\n",
    "\n",
    "\n",
    "# Purchase Count\n",
    "purchase_count_age = age_group[\"Purchase ID\"].count()\n",
    "# print(purchase_count)\n",
    "\n",
    "# Average Purchase Price\n",
    "avg_purchase_price_age = age_group[\"Price\"].mean()\n",
    "# print(purchase_price)\n",
    "\n",
    "# Total Purchase Value\n",
    "total_purchase_value = age_group[\"Price\"].sum()\n",
    "# print(total_purchase_value)\n",
    "\n",
    "# Average Purchase Total per Person by Age Group\n",
    "\n",
    "average_purchase_per_person_age = total_purchase_value/total_count_age\n",
    "# print(average_purchase_total)\n",
    "\n",
    "age_demographics = pd.DataFrame ({\"Purchase Count\":purchase_count_age,\n",
    "                            \"Average Purchase Price\":avg_purchase_price_age,\n",
    "                            \"Total Purchase Value\":total_purchase_value,\n",
    "                            \"Avg Total Purchase Per Person\":average_purchase_per_person_age})\n",
    "\n",
    "purchasing_analysis.style.format({\"Purchase Count\":\"${:.2f}\",\n",
    "                            \"Average Purchase Price\":\"${:.2f}\",\n",
    "                            \"Total Purchase Value\":\"${:.2f}\",\n",
    "                            \"Avg Total Purchase Per Person\":\"${:.2f}\"})"
   ]
  },
  {
   "cell_type": "code",
   "execution_count": 343,
   "metadata": {},
   "outputs": [
    {
     "data": {
      "text/html": [
       "<style  type=\"text/css\" >\n",
       "</style><table id=\"T_140b57de_78ec_11e9_98f6_3c950963804a\" ><thead>    <tr>        <th class=\"blank level0\" ></th>        <th class=\"col_heading level0 col0\" >Purchase Count</th>        <th class=\"col_heading level0 col1\" >Average Purchase Price</th>        <th class=\"col_heading level0 col2\" >Total Purchase Value</th>    </tr>    <tr>        <th class=\"index_name level0\" >SN</th>        <th class=\"blank\" ></th>        <th class=\"blank\" ></th>        <th class=\"blank\" ></th>    </tr></thead><tbody>\n",
       "                <tr>\n",
       "                        <th id=\"T_140b57de_78ec_11e9_98f6_3c950963804alevel0_row0\" class=\"row_heading level0 row0\" >Lisosia93</th>\n",
       "                        <td id=\"T_140b57de_78ec_11e9_98f6_3c950963804arow0_col0\" class=\"data row0 col0\" >$5.00</td>\n",
       "                        <td id=\"T_140b57de_78ec_11e9_98f6_3c950963804arow0_col1\" class=\"data row0 col1\" >$3.79</td>\n",
       "                        <td id=\"T_140b57de_78ec_11e9_98f6_3c950963804arow0_col2\" class=\"data row0 col2\" >$18.96</td>\n",
       "            </tr>\n",
       "            <tr>\n",
       "                        <th id=\"T_140b57de_78ec_11e9_98f6_3c950963804alevel0_row1\" class=\"row_heading level0 row1\" >Idastidru52</th>\n",
       "                        <td id=\"T_140b57de_78ec_11e9_98f6_3c950963804arow1_col0\" class=\"data row1 col0\" >$4.00</td>\n",
       "                        <td id=\"T_140b57de_78ec_11e9_98f6_3c950963804arow1_col1\" class=\"data row1 col1\" >$3.86</td>\n",
       "                        <td id=\"T_140b57de_78ec_11e9_98f6_3c950963804arow1_col2\" class=\"data row1 col2\" >$15.45</td>\n",
       "            </tr>\n",
       "            <tr>\n",
       "                        <th id=\"T_140b57de_78ec_11e9_98f6_3c950963804alevel0_row2\" class=\"row_heading level0 row2\" >Chamjask73</th>\n",
       "                        <td id=\"T_140b57de_78ec_11e9_98f6_3c950963804arow2_col0\" class=\"data row2 col0\" >$3.00</td>\n",
       "                        <td id=\"T_140b57de_78ec_11e9_98f6_3c950963804arow2_col1\" class=\"data row2 col1\" >$4.61</td>\n",
       "                        <td id=\"T_140b57de_78ec_11e9_98f6_3c950963804arow2_col2\" class=\"data row2 col2\" >$13.83</td>\n",
       "            </tr>\n",
       "            <tr>\n",
       "                        <th id=\"T_140b57de_78ec_11e9_98f6_3c950963804alevel0_row3\" class=\"row_heading level0 row3\" >Iral74</th>\n",
       "                        <td id=\"T_140b57de_78ec_11e9_98f6_3c950963804arow3_col0\" class=\"data row3 col0\" >$4.00</td>\n",
       "                        <td id=\"T_140b57de_78ec_11e9_98f6_3c950963804arow3_col1\" class=\"data row3 col1\" >$3.40</td>\n",
       "                        <td id=\"T_140b57de_78ec_11e9_98f6_3c950963804arow3_col2\" class=\"data row3 col2\" >$13.62</td>\n",
       "            </tr>\n",
       "            <tr>\n",
       "                        <th id=\"T_140b57de_78ec_11e9_98f6_3c950963804alevel0_row4\" class=\"row_heading level0 row4\" >Iskadarya95</th>\n",
       "                        <td id=\"T_140b57de_78ec_11e9_98f6_3c950963804arow4_col0\" class=\"data row4 col0\" >$3.00</td>\n",
       "                        <td id=\"T_140b57de_78ec_11e9_98f6_3c950963804arow4_col1\" class=\"data row4 col1\" >$4.37</td>\n",
       "                        <td id=\"T_140b57de_78ec_11e9_98f6_3c950963804arow4_col2\" class=\"data row4 col2\" >$13.10</td>\n",
       "            </tr>\n",
       "    </tbody></table>"
      ],
      "text/plain": [
       "<pandas.io.formats.style.Styler at 0x1a0f92a1b00>"
      ]
     },
     "execution_count": 343,
     "metadata": {},
     "output_type": "execute_result"
    }
   ],
   "source": [
    "# Top Spenders\n",
    " \n",
    "# Run basic calculations to obtain the results in the table below\n",
    "\n",
    "purchase_count = purchase_data.groupby([\"SN\"]).count()[\"Price\"].rename(\"Purchase Count\")\n",
    "average_purchase_price = purchase_data.groupby([\"SN\"]).mean()[\"Price\"].rename(\"Average Purchase Price\")\n",
    "total_purchase_price = purchase_data.groupby([\"SN\"]).sum()[\"Price\"].rename(\"Total Purchase Value\")\n",
    "# Create a summary data frame to hold the results\n",
    "\n",
    "\n",
    "# Sort the total purchase value column in descending order\n",
    "\n",
    "top_spenders = pd.DataFrame ({\"Purchase Count\":purchase_count,\n",
    "                            \"Average Purchase Price\":average_purchase_price,\n",
    "                            \"Total Purchase Value\":total_purchase_price})\n",
    "# Optional: give the displayed data cleaner formatting\n",
    "\n",
    "top_spenders.sort_values([\"Total Purchase Value\"], ascending=False).head(5).style.format({\"Purchase Count\":\"${:.2f}\",\n",
    "                            \"Average Purchase Price\":\"${:.2f}\",\n",
    "                            \"Total Purchase Value\":\"${:.2f}\"})\n",
    "# Display a preview of the summary data frame"
   ]
  },
  {
   "cell_type": "code",
   "execution_count": 344,
   "metadata": {},
   "outputs": [
    {
     "name": "stderr",
     "output_type": "stream",
     "text": [
      "C:\\Users\\anoos\\Anaconda3\\lib\\site-packages\\pandas\\core\\indexing.py:1494: FutureWarning: \n",
      "Passing list-likes to .loc or [] with any missing label will raise\n",
      "KeyError in the future, you can use .reindex() as an alternative.\n",
      "\n",
      "See the documentation here:\n",
      "https://pandas.pydata.org/pandas-docs/stable/indexing.html#deprecate-loc-reindex-listlike\n",
      "  return self._getitem_tuple(key)\n"
     ]
    },
    {
     "data": {
      "text/html": [
       "<style  type=\"text/css\" >\n",
       "</style><table id=\"T_14131c64_78ec_11e9_aa04_3c950963804a\" ><thead>    <tr>        <th class=\"blank\" ></th>        <th class=\"blank level0\" ></th>        <th class=\"col_heading level0 col0\" >Purchase Count</th>        <th class=\"col_heading level0 col1\" >Item Price</th>        <th class=\"col_heading level0 col2\" >Total Purchase Value</th>    </tr>    <tr>        <th class=\"index_name level0\" >Item ID</th>        <th class=\"index_name level1\" >Item Name</th>        <th class=\"blank\" ></th>        <th class=\"blank\" ></th>        <th class=\"blank\" ></th>    </tr></thead><tbody>\n",
       "                <tr>\n",
       "                        <th id=\"T_14131c64_78ec_11e9_aa04_3c950963804alevel0_row0\" class=\"row_heading level0 row0\" >178</th>\n",
       "                        <th id=\"T_14131c64_78ec_11e9_aa04_3c950963804alevel1_row0\" class=\"row_heading level1 row0\" >Oathbreaker, Last Hope of the Breaking Storm</th>\n",
       "                        <td id=\"T_14131c64_78ec_11e9_aa04_3c950963804arow0_col0\" class=\"data row0 col0\" >12.00</td>\n",
       "                        <td id=\"T_14131c64_78ec_11e9_aa04_3c950963804arow0_col1\" class=\"data row0 col1\" >$4.23</td>\n",
       "                        <td id=\"T_14131c64_78ec_11e9_aa04_3c950963804arow0_col2\" class=\"data row0 col2\" >$50.76</td>\n",
       "            </tr>\n",
       "            <tr>\n",
       "                        <th id=\"T_14131c64_78ec_11e9_aa04_3c950963804alevel0_row1\" class=\"row_heading level0 row1\" >145</th>\n",
       "                        <th id=\"T_14131c64_78ec_11e9_aa04_3c950963804alevel1_row1\" class=\"row_heading level1 row1\" >Fiery Glass Crusader</th>\n",
       "                        <td id=\"T_14131c64_78ec_11e9_aa04_3c950963804arow1_col0\" class=\"data row1 col0\" >9.00</td>\n",
       "                        <td id=\"T_14131c64_78ec_11e9_aa04_3c950963804arow1_col1\" class=\"data row1 col1\" >$4.58</td>\n",
       "                        <td id=\"T_14131c64_78ec_11e9_aa04_3c950963804arow1_col2\" class=\"data row1 col2\" >$41.22</td>\n",
       "            </tr>\n",
       "            <tr>\n",
       "                        <th id=\"T_14131c64_78ec_11e9_aa04_3c950963804alevel0_row2\" class=\"row_heading level0 row2\" >108</th>\n",
       "                        <th id=\"T_14131c64_78ec_11e9_aa04_3c950963804alevel1_row2\" class=\"row_heading level1 row2\" >Extraction, Quickblade Of Trembling Hands</th>\n",
       "                        <td id=\"T_14131c64_78ec_11e9_aa04_3c950963804arow2_col0\" class=\"data row2 col0\" >9.00</td>\n",
       "                        <td id=\"T_14131c64_78ec_11e9_aa04_3c950963804arow2_col1\" class=\"data row2 col1\" >$3.53</td>\n",
       "                        <td id=\"T_14131c64_78ec_11e9_aa04_3c950963804arow2_col2\" class=\"data row2 col2\" >$31.77</td>\n",
       "            </tr>\n",
       "            <tr>\n",
       "                        <th id=\"T_14131c64_78ec_11e9_aa04_3c950963804alevel0_row3\" class=\"row_heading level0 row3\" >82</th>\n",
       "                        <th id=\"T_14131c64_78ec_11e9_aa04_3c950963804alevel1_row3\" class=\"row_heading level1 row3\" >Nirvana</th>\n",
       "                        <td id=\"T_14131c64_78ec_11e9_aa04_3c950963804arow3_col0\" class=\"data row3 col0\" >9.00</td>\n",
       "                        <td id=\"T_14131c64_78ec_11e9_aa04_3c950963804arow3_col1\" class=\"data row3 col1\" >$4.90</td>\n",
       "                        <td id=\"T_14131c64_78ec_11e9_aa04_3c950963804arow3_col2\" class=\"data row3 col2\" >$44.10</td>\n",
       "            </tr>\n",
       "            <tr>\n",
       "                        <th id=\"T_14131c64_78ec_11e9_aa04_3c950963804alevel0_row4\" class=\"row_heading level0 row4\" >19</th>\n",
       "                        <th id=\"T_14131c64_78ec_11e9_aa04_3c950963804alevel1_row4\" class=\"row_heading level1 row4\" >Pursuit, Cudgel of Necromancy</th>\n",
       "                        <td id=\"T_14131c64_78ec_11e9_aa04_3c950963804arow4_col0\" class=\"data row4 col0\" >8.00</td>\n",
       "                        <td id=\"T_14131c64_78ec_11e9_aa04_3c950963804arow4_col1\" class=\"data row4 col1\" >$1.02</td>\n",
       "                        <td id=\"T_14131c64_78ec_11e9_aa04_3c950963804arow4_col2\" class=\"data row4 col2\" >$8.16</td>\n",
       "            </tr>\n",
       "    </tbody></table>"
      ],
      "text/plain": [
       "<pandas.io.formats.style.Styler at 0x1a0f92a1cc0>"
      ]
     },
     "execution_count": 344,
     "metadata": {},
     "output_type": "execute_result"
    }
   ],
   "source": [
    "# Retrieve the Item ID, Item Name, and Item Price columns\n",
    "item = purchase_data.loc[:, [\"Item ID\", \"Item Name\", \"Item Price\"]]\n",
    "\n",
    "# Group by Item ID and Item Name. Perform calculations to obtain purchase count, item price, and total purchase value\n",
    "\n",
    "item_purchase_count = purchase_data.groupby([\"Item ID\", \"Item Name\"]).count()[\"Price\"].rename(\"Purchase Count\")\n",
    "item_price = purchase_data.groupby([\"Item ID\", \"Item Name\"]).mean()[\"Price\"].rename(\"Item Price\")\n",
    "item_total_purchase_count = purchase_data.groupby([\"Item ID\", \"Item Name\"]).sum()[\"Price\"].rename(\"Total Purchase Value\")\n",
    "\n",
    "# Create a summary data frame to hold the results\n",
    "\n",
    "top_items = pd.DataFrame ({\"Purchase Count\":item_purchase_count,\n",
    "                            \"Item Price\":item_price,\n",
    "                            \"Total Purchase Value\":item_total_purchase_count})\n",
    "# Sort the purchase count column in descending order\n",
    "\n",
    "top_items.sort_values([\"Purchase Count\"], ascending=False).head(5).style.format({\"Purchase Count\":\"{:.2f}\",\n",
    "                            \"Item Price\":\"${:.2f}\",\n",
    "                            \"Total Purchase Value\":\"${:.2f}\"})\n",
    "# Optional: give the displayed data cleaner formatting\n",
    "\n",
    "\n",
    "# Display a preview of the summary data frame"
   ]
  },
  {
   "cell_type": "code",
   "execution_count": 345,
   "metadata": {},
   "outputs": [
    {
     "data": {
      "text/html": [
       "<style  type=\"text/css\" >\n",
       "</style><table id=\"T_14184ed4_78ec_11e9_a6f5_3c950963804a\" ><thead>    <tr>        <th class=\"blank\" ></th>        <th class=\"blank level0\" ></th>        <th class=\"col_heading level0 col0\" >Purchase Count</th>        <th class=\"col_heading level0 col1\" >Item Price</th>        <th class=\"col_heading level0 col2\" >Total Purchase Value</th>    </tr>    <tr>        <th class=\"index_name level0\" >Item ID</th>        <th class=\"index_name level1\" >Item Name</th>        <th class=\"blank\" ></th>        <th class=\"blank\" ></th>        <th class=\"blank\" ></th>    </tr></thead><tbody>\n",
       "                <tr>\n",
       "                        <th id=\"T_14184ed4_78ec_11e9_a6f5_3c950963804alevel0_row0\" class=\"row_heading level0 row0\" >178</th>\n",
       "                        <th id=\"T_14184ed4_78ec_11e9_a6f5_3c950963804alevel1_row0\" class=\"row_heading level1 row0\" >Oathbreaker, Last Hope of the Breaking Storm</th>\n",
       "                        <td id=\"T_14184ed4_78ec_11e9_a6f5_3c950963804arow0_col0\" class=\"data row0 col0\" >12.00</td>\n",
       "                        <td id=\"T_14184ed4_78ec_11e9_a6f5_3c950963804arow0_col1\" class=\"data row0 col1\" >$4.23</td>\n",
       "                        <td id=\"T_14184ed4_78ec_11e9_a6f5_3c950963804arow0_col2\" class=\"data row0 col2\" >$50.76</td>\n",
       "            </tr>\n",
       "            <tr>\n",
       "                        <th id=\"T_14184ed4_78ec_11e9_a6f5_3c950963804alevel0_row1\" class=\"row_heading level0 row1\" >82</th>\n",
       "                        <th id=\"T_14184ed4_78ec_11e9_a6f5_3c950963804alevel1_row1\" class=\"row_heading level1 row1\" >Nirvana</th>\n",
       "                        <td id=\"T_14184ed4_78ec_11e9_a6f5_3c950963804arow1_col0\" class=\"data row1 col0\" >9.00</td>\n",
       "                        <td id=\"T_14184ed4_78ec_11e9_a6f5_3c950963804arow1_col1\" class=\"data row1 col1\" >$4.90</td>\n",
       "                        <td id=\"T_14184ed4_78ec_11e9_a6f5_3c950963804arow1_col2\" class=\"data row1 col2\" >$44.10</td>\n",
       "            </tr>\n",
       "            <tr>\n",
       "                        <th id=\"T_14184ed4_78ec_11e9_a6f5_3c950963804alevel0_row2\" class=\"row_heading level0 row2\" >145</th>\n",
       "                        <th id=\"T_14184ed4_78ec_11e9_a6f5_3c950963804alevel1_row2\" class=\"row_heading level1 row2\" >Fiery Glass Crusader</th>\n",
       "                        <td id=\"T_14184ed4_78ec_11e9_a6f5_3c950963804arow2_col0\" class=\"data row2 col0\" >9.00</td>\n",
       "                        <td id=\"T_14184ed4_78ec_11e9_a6f5_3c950963804arow2_col1\" class=\"data row2 col1\" >$4.58</td>\n",
       "                        <td id=\"T_14184ed4_78ec_11e9_a6f5_3c950963804arow2_col2\" class=\"data row2 col2\" >$41.22</td>\n",
       "            </tr>\n",
       "            <tr>\n",
       "                        <th id=\"T_14184ed4_78ec_11e9_a6f5_3c950963804alevel0_row3\" class=\"row_heading level0 row3\" >92</th>\n",
       "                        <th id=\"T_14184ed4_78ec_11e9_a6f5_3c950963804alevel1_row3\" class=\"row_heading level1 row3\" >Final Critic</th>\n",
       "                        <td id=\"T_14184ed4_78ec_11e9_a6f5_3c950963804arow3_col0\" class=\"data row3 col0\" >8.00</td>\n",
       "                        <td id=\"T_14184ed4_78ec_11e9_a6f5_3c950963804arow3_col1\" class=\"data row3 col1\" >$4.88</td>\n",
       "                        <td id=\"T_14184ed4_78ec_11e9_a6f5_3c950963804arow3_col2\" class=\"data row3 col2\" >$39.04</td>\n",
       "            </tr>\n",
       "            <tr>\n",
       "                        <th id=\"T_14184ed4_78ec_11e9_a6f5_3c950963804alevel0_row4\" class=\"row_heading level0 row4\" >103</th>\n",
       "                        <th id=\"T_14184ed4_78ec_11e9_a6f5_3c950963804alevel1_row4\" class=\"row_heading level1 row4\" >Singed Scalpel</th>\n",
       "                        <td id=\"T_14184ed4_78ec_11e9_a6f5_3c950963804arow4_col0\" class=\"data row4 col0\" >8.00</td>\n",
       "                        <td id=\"T_14184ed4_78ec_11e9_a6f5_3c950963804arow4_col1\" class=\"data row4 col1\" >$4.35</td>\n",
       "                        <td id=\"T_14184ed4_78ec_11e9_a6f5_3c950963804arow4_col2\" class=\"data row4 col2\" >$34.80</td>\n",
       "            </tr>\n",
       "    </tbody></table>"
      ],
      "text/plain": [
       "<pandas.io.formats.style.Styler at 0x1a0f931bd68>"
      ]
     },
     "execution_count": 345,
     "metadata": {},
     "output_type": "execute_result"
    }
   ],
   "source": [
    "#  Most Profitable Items\n",
    " \n",
    "# Sort the above table by total purchase value in descending order\n",
    "top_items.sort_values([\"Total Purchase Value\"], ascending=False).head(5).style.format({\"Purchase Count\":\"{:.2f}\",\n",
    "                            \"Item Price\":\"${:.2f}\",\n",
    "                            \"Total Purchase Value\":\"${:.2f}\"})\n",
    "\n",
    "# Optional: give the displayed data cleaner formatting\n",
    "\n",
    "\n",
    "# Display a preview of the data frame"
   ]
  },
  {
   "cell_type": "code",
   "execution_count": null,
   "metadata": {},
   "outputs": [],
   "source": [
    "# Heroes of Pymoli Data Analysis \n",
    "# 1. The majority of purchases are bought by people aged 15-24, who make up nearly 50% of the player base. \n",
    "# However, they do not have the highest purchasing value. This may be explained by their purchasing style of \n",
    "# buying more of the less expensive items. \n",
    "# 2. Males are the main gender to play the game. However, males only spend, on average, $0.19 more \n",
    "# than females on the game. People who are non-binary or chose to not disclose their gender in this analysis spend, on average, the most. \n",
    "# 3. Though the average price of all items is around $2.93, all age groups except players over 40, spent above this \n",
    "# average. If the purchasing goal is set at this average, as in, everyone on average would buy one item from the store, \n",
    "# this data would show that the goal has been met. "
   ]
  }
 ],
 "metadata": {
  "kernelspec": {
   "display_name": "Python 3",
   "language": "python",
   "name": "python3"
  },
  "language_info": {
   "codemirror_mode": {
    "name": "ipython",
    "version": 3
   },
   "file_extension": ".py",
   "mimetype": "text/x-python",
   "name": "python",
   "nbconvert_exporter": "python",
   "pygments_lexer": "ipython3",
   "version": "3.7.3"
  }
 },
 "nbformat": 4,
 "nbformat_minor": 2
}
