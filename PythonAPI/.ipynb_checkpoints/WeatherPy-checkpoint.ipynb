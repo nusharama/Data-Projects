{
 "cells": [
  {
   "cell_type": "markdown",
   "metadata": {},
   "source": [
    "# WeatherPy\n",
    "----\n",
    "\n",
    "### Analysis\n",
    "* As expected, the weather becomes significantly warmer as one approaches the equator (0 Deg. Latitude). More interestingly, however, is the fact that the southern hemisphere tends to be warmer this time of year than the northern hemisphere. This may be due to the tilt of the earth.\n",
    "* There is no strong relationship between latitude and cloudiness. However, it is interesting to see that a strong band of cities sits at 0, 80, and 100% cloudiness.\n",
    "* There is no strong relationship between latitude and wind speed. However, in northern hemispheres there is a flurry of cities with over 20 mph of wind.\n",
    "\n",
    "---\n",
    "\n",
    "#### Note\n",
    "* Instructions have been included for each segment. You do not have to follow them exactly, but they are included to help you think through the steps."
   ]
  },
  {
   "cell_type": "code",
   "execution_count": 1,
   "metadata": {
    "scrolled": true
   },
   "outputs": [],
   "source": [
    "# Dependencies and Setup\n",
    "import matplotlib.pyplot as plt\n",
    "import pandas as pd\n",
    "import numpy as np\n",
    "import requests\n",
    "import time\n",
    "\n",
    "# Import API key\n",
    "from api_keys import api_key\n",
    "import api_keys\n",
    "# Incorporated citipy to determine city based on latitude and longitude\n",
    "\n",
    "from citipy import citipy\n",
    "\n",
    "# Output File (CSV)\n",
    "output_data_file = \"output_data/cities.csv\"\n",
    "\n",
    "# Range of latitudes and longitudes\n",
    "lat_range = (-90, 90)\n",
    "lng_range = (-180, 180)"
   ]
  },
  {
   "cell_type": "markdown",
   "metadata": {},
   "source": [
    "## Generate Cities List"
   ]
  },
  {
   "cell_type": "code",
   "execution_count": 2,
   "metadata": {},
   "outputs": [
    {
     "data": {
      "text/plain": [
       "633"
      ]
     },
     "execution_count": 2,
     "metadata": {},
     "output_type": "execute_result"
    }
   ],
   "source": [
    "# List for holding lat_lngs and cities\n",
    "lat_lngs = []\n",
    "cities = []\n",
    "\n",
    "# Create a set of random lat and lng combinations\n",
    "lats = np.random.uniform(low=-90.000, high=90.000, size=1500)\n",
    "lngs = np.random.uniform(low=-180.000, high=180.000, size=1500)\n",
    "lat_lngs = zip(lats, lngs)\n",
    "\n",
    "# Identify nearest city for each lat, lng combination\n",
    "for lat_lng in lat_lngs:\n",
    "    city = citipy.nearest_city(lat_lng[0], lat_lng[1]).city_name\n",
    "    \n",
    "    # If the city is unique, then add it to a our cities list\n",
    "    if city not in cities:\n",
    "        cities.append(city)\n",
    "\n",
    "# Print the city count to confirm sufficient count\n",
    "len(cities)"
   ]
  },
  {
   "cell_type": "markdown",
   "metadata": {},
   "source": [
    "### Perform API Calls\n",
    "* Perform a weather check on each city using a series of successive API calls.\n",
    "* Include a print log of each city as it'sbeing processed (with the city number and city name).\n"
   ]
  },
  {
   "cell_type": "code",
   "execution_count": 3,
   "metadata": {},
   "outputs": [
    {
     "name": "stdout",
     "output_type": "stream",
     "text": [
      "http://api.openweathermap.org/data/2.5/weather?units=Imperial&APPID=7f67c78627c62ce245c39367d6ec692e\n"
     ]
    }
   ],
   "source": [
    "# OpenWeatherMap API Key\n",
    "api_key = api_keys.api_key\n",
    "\n",
    "# Starting URL for Weather Map API Call\n",
    "url = \"http://api.openweathermap.org/data/2.5/weather?units=Imperial&APPID=\" + api_key\n",
    "\n",
    "# url = \"http://api.openweathermap.org/data/2.5/forecast?id=524901&APPID=\" + api_key\n",
    "print(url)"
   ]
  },
  {
   "cell_type": "markdown",
   "metadata": {},
   "source": [
    "### Convert Raw Data to DataFrame\n",
    "* Export the city data into a .csv.\n",
    "* Display the DataFrame"
   ]
  },
  {
   "cell_type": "code",
   "execution_count": null,
   "metadata": {},
   "outputs": [
    {
     "name": "stdout",
     "output_type": "stream",
     "text": [
      "Beginning Data Retrieval\n",
      "-------------------------------\n",
      "Processing Record 1 | Cape Town\n",
      "http://api.openweathermap.org/data/2.5/weather?units=Imperial&APPID=7f67c78627c62ce245c39367d6ec692e&q=cape town\n",
      "Processing Record 2 | Hovd\n",
      "http://api.openweathermap.org/data/2.5/weather?units=Imperial&APPID=7f67c78627c62ce245c39367d6ec692e&q=hovd\n",
      "Processing Record 3 | Shieli\n",
      "http://api.openweathermap.org/data/2.5/weather?units=Imperial&APPID=7f67c78627c62ce245c39367d6ec692e&q=shieli\n",
      "Processing Record 4 | Vertientes\n",
      "http://api.openweathermap.org/data/2.5/weather?units=Imperial&APPID=7f67c78627c62ce245c39367d6ec692e&q=vertientes\n",
      "Processing Record 5 | Constitucion\n",
      "http://api.openweathermap.org/data/2.5/weather?units=Imperial&APPID=7f67c78627c62ce245c39367d6ec692e&q=constitucion\n",
      "Processing Record 6 | Dingle\n",
      "http://api.openweathermap.org/data/2.5/weather?units=Imperial&APPID=7f67c78627c62ce245c39367d6ec692e&q=dingle\n",
      "Processing Record 7 | Tyrma\n",
      "http://api.openweathermap.org/data/2.5/weather?units=Imperial&APPID=7f67c78627c62ce245c39367d6ec692e&q=tyrma\n",
      "Processing Record 8 | Hilo\n",
      "http://api.openweathermap.org/data/2.5/weather?units=Imperial&APPID=7f67c78627c62ce245c39367d6ec692e&q=hilo\n",
      "City not found. Skipping...\n",
      "Processing Record 9 | Cherdyn\n",
      "http://api.openweathermap.org/data/2.5/weather?units=Imperial&APPID=7f67c78627c62ce245c39367d6ec692e&q=cherdyn\n",
      "Processing Record 10 | Waddan\n",
      "http://api.openweathermap.org/data/2.5/weather?units=Imperial&APPID=7f67c78627c62ce245c39367d6ec692e&q=waddan\n",
      "Processing Record 11 | Rikitea\n",
      "http://api.openweathermap.org/data/2.5/weather?units=Imperial&APPID=7f67c78627c62ce245c39367d6ec692e&q=rikitea\n",
      "Processing Record 12 | Hobart\n",
      "http://api.openweathermap.org/data/2.5/weather?units=Imperial&APPID=7f67c78627c62ce245c39367d6ec692e&q=hobart\n",
      "Processing Record 13 | Jamestown\n",
      "http://api.openweathermap.org/data/2.5/weather?units=Imperial&APPID=7f67c78627c62ce245c39367d6ec692e&q=jamestown\n",
      "Processing Record 14 | Lompoc\n",
      "http://api.openweathermap.org/data/2.5/weather?units=Imperial&APPID=7f67c78627c62ce245c39367d6ec692e&q=lompoc\n",
      "Processing Record 15 | Krasnogvardeyskiy\n",
      "http://api.openweathermap.org/data/2.5/weather?units=Imperial&APPID=7f67c78627c62ce245c39367d6ec692e&q=krasnogvardeyskiy\n",
      "Processing Record 16 | Busselton\n",
      "http://api.openweathermap.org/data/2.5/weather?units=Imperial&APPID=7f67c78627c62ce245c39367d6ec692e&q=busselton\n",
      "City not found. Skipping...\n",
      "Processing Record 17 | Kaeo\n",
      "http://api.openweathermap.org/data/2.5/weather?units=Imperial&APPID=7f67c78627c62ce245c39367d6ec692e&q=kaeo\n",
      "Processing Record 18 | Lebu\n",
      "http://api.openweathermap.org/data/2.5/weather?units=Imperial&APPID=7f67c78627c62ce245c39367d6ec692e&q=lebu\n",
      "Processing Record 19 | Gubkinskiy\n",
      "http://api.openweathermap.org/data/2.5/weather?units=Imperial&APPID=7f67c78627c62ce245c39367d6ec692e&q=gubkinskiy\n",
      "Processing Record 20 | Greece\n",
      "http://api.openweathermap.org/data/2.5/weather?units=Imperial&APPID=7f67c78627c62ce245c39367d6ec692e&q=greece\n",
      "Processing Record 21 | Comodoro Rivadavia\n",
      "http://api.openweathermap.org/data/2.5/weather?units=Imperial&APPID=7f67c78627c62ce245c39367d6ec692e&q=comodoro rivadavia\n",
      "Processing Record 22 | Te Anau\n",
      "http://api.openweathermap.org/data/2.5/weather?units=Imperial&APPID=7f67c78627c62ce245c39367d6ec692e&q=te anau\n",
      "Processing Record 23 | New Norfolk\n",
      "http://api.openweathermap.org/data/2.5/weather?units=Imperial&APPID=7f67c78627c62ce245c39367d6ec692e&q=new norfolk\n",
      "Processing Record 24 | Ushuaia\n",
      "http://api.openweathermap.org/data/2.5/weather?units=Imperial&APPID=7f67c78627c62ce245c39367d6ec692e&q=ushuaia\n",
      "Processing Record 25 | Atuona\n",
      "http://api.openweathermap.org/data/2.5/weather?units=Imperial&APPID=7f67c78627c62ce245c39367d6ec692e&q=atuona\n",
      "Processing Record 26 | Teeli\n",
      "http://api.openweathermap.org/data/2.5/weather?units=Imperial&APPID=7f67c78627c62ce245c39367d6ec692e&q=teeli\n",
      "Processing Record 27 | Hithadhoo\n",
      "http://api.openweathermap.org/data/2.5/weather?units=Imperial&APPID=7f67c78627c62ce245c39367d6ec692e&q=hithadhoo\n",
      "Processing Record 28 | Naze\n",
      "http://api.openweathermap.org/data/2.5/weather?units=Imperial&APPID=7f67c78627c62ce245c39367d6ec692e&q=naze\n",
      "Processing Record 29 | Guanare\n",
      "http://api.openweathermap.org/data/2.5/weather?units=Imperial&APPID=7f67c78627c62ce245c39367d6ec692e&q=guanare\n",
      "Processing Record 30 | Georgetown\n",
      "http://api.openweathermap.org/data/2.5/weather?units=Imperial&APPID=7f67c78627c62ce245c39367d6ec692e&q=georgetown\n",
      "Processing Record 31 | Avarua\n",
      "http://api.openweathermap.org/data/2.5/weather?units=Imperial&APPID=7f67c78627c62ce245c39367d6ec692e&q=avarua\n",
      "Processing Record 32 | Kavieng\n",
      "http://api.openweathermap.org/data/2.5/weather?units=Imperial&APPID=7f67c78627c62ce245c39367d6ec692e&q=kavieng\n",
      "Processing Record 33 | Airai\n",
      "http://api.openweathermap.org/data/2.5/weather?units=Imperial&APPID=7f67c78627c62ce245c39367d6ec692e&q=airai\n",
      "Processing Record 34 | Cabo San Lucas\n",
      "http://api.openweathermap.org/data/2.5/weather?units=Imperial&APPID=7f67c78627c62ce245c39367d6ec692e&q=cabo san lucas\n",
      "Processing Record 35 | La Palma\n",
      "http://api.openweathermap.org/data/2.5/weather?units=Imperial&APPID=7f67c78627c62ce245c39367d6ec692e&q=la palma\n",
      "Processing Record 36 | Gizo\n",
      "http://api.openweathermap.org/data/2.5/weather?units=Imperial&APPID=7f67c78627c62ce245c39367d6ec692e&q=gizo\n",
      "Processing Record 37 | Albany\n",
      "http://api.openweathermap.org/data/2.5/weather?units=Imperial&APPID=7f67c78627c62ce245c39367d6ec692e&q=albany\n",
      "Processing Record 38 | Kushima\n",
      "http://api.openweathermap.org/data/2.5/weather?units=Imperial&APPID=7f67c78627c62ce245c39367d6ec692e&q=kushima\n",
      "City not found. Skipping...\n",
      "Processing Record 39 | Saint-Pierre\n",
      "http://api.openweathermap.org/data/2.5/weather?units=Imperial&APPID=7f67c78627c62ce245c39367d6ec692e&q=saint-pierre\n",
      "Processing Record 40 | Dikson\n",
      "http://api.openweathermap.org/data/2.5/weather?units=Imperial&APPID=7f67c78627c62ce245c39367d6ec692e&q=dikson\n",
      "Processing Record 41 | Praia\n",
      "http://api.openweathermap.org/data/2.5/weather?units=Imperial&APPID=7f67c78627c62ce245c39367d6ec692e&q=praia\n",
      "Processing Record 42 | Kawardha\n",
      "http://api.openweathermap.org/data/2.5/weather?units=Imperial&APPID=7f67c78627c62ce245c39367d6ec692e&q=kawardha\n",
      "Processing Record 43 | Lagoa\n",
      "http://api.openweathermap.org/data/2.5/weather?units=Imperial&APPID=7f67c78627c62ce245c39367d6ec692e&q=lagoa\n",
      "Processing Record 44 | Hami\n",
      "http://api.openweathermap.org/data/2.5/weather?units=Imperial&APPID=7f67c78627c62ce245c39367d6ec692e&q=hami\n",
      "Processing Record 45 | Kapaa\n",
      "http://api.openweathermap.org/data/2.5/weather?units=Imperial&APPID=7f67c78627c62ce245c39367d6ec692e&q=kapaa\n",
      "Processing Record 46 | Imbituba\n",
      "http://api.openweathermap.org/data/2.5/weather?units=Imperial&APPID=7f67c78627c62ce245c39367d6ec692e&q=imbituba\n",
      "Processing Record 47 | Mahebourg\n",
      "http://api.openweathermap.org/data/2.5/weather?units=Imperial&APPID=7f67c78627c62ce245c39367d6ec692e&q=mahebourg\n",
      "Processing Record 48 | Victoria\n",
      "http://api.openweathermap.org/data/2.5/weather?units=Imperial&APPID=7f67c78627c62ce245c39367d6ec692e&q=victoria\n",
      "Processing Record 49 | Tiksi\n",
      "http://api.openweathermap.org/data/2.5/weather?units=Imperial&APPID=7f67c78627c62ce245c39367d6ec692e&q=tiksi\n",
      "Processing Record 50 | Torbay\n",
      "http://api.openweathermap.org/data/2.5/weather?units=Imperial&APPID=7f67c78627c62ce245c39367d6ec692e&q=torbay\n",
      "City not found. Skipping...\n",
      "Processing Record 51 | Waitati\n",
      "http://api.openweathermap.org/data/2.5/weather?units=Imperial&APPID=7f67c78627c62ce245c39367d6ec692e&q=waitati\n",
      "Processing Record 52 | Mehamn\n",
      "http://api.openweathermap.org/data/2.5/weather?units=Imperial&APPID=7f67c78627c62ce245c39367d6ec692e&q=mehamn\n",
      "Processing Record 53 | Bone\n",
      "http://api.openweathermap.org/data/2.5/weather?units=Imperial&APPID=7f67c78627c62ce245c39367d6ec692e&q=bone\n",
      "Processing Record 54 | Srednekolymsk\n",
      "http://api.openweathermap.org/data/2.5/weather?units=Imperial&APPID=7f67c78627c62ce245c39367d6ec692e&q=srednekolymsk\n",
      "Processing Record 55 | Clyde River\n",
      "http://api.openweathermap.org/data/2.5/weather?units=Imperial&APPID=7f67c78627c62ce245c39367d6ec692e&q=clyde river\n",
      "Processing Record 56 | Mount Isa\n",
      "http://api.openweathermap.org/data/2.5/weather?units=Imperial&APPID=7f67c78627c62ce245c39367d6ec692e&q=mount isa\n",
      "Processing Record 57 | East London\n",
      "http://api.openweathermap.org/data/2.5/weather?units=Imperial&APPID=7f67c78627c62ce245c39367d6ec692e&q=east london\n"
     ]
    },
    {
     "name": "stdout",
     "output_type": "stream",
     "text": [
      "Processing Record 58 | Yellowknife\n",
      "http://api.openweathermap.org/data/2.5/weather?units=Imperial&APPID=7f67c78627c62ce245c39367d6ec692e&q=yellowknife\n",
      "Processing Record 59 | Ostrovnoy\n",
      "http://api.openweathermap.org/data/2.5/weather?units=Imperial&APPID=7f67c78627c62ce245c39367d6ec692e&q=ostrovnoy\n",
      "Processing Record 60 | Severo-Kurilsk\n",
      "http://api.openweathermap.org/data/2.5/weather?units=Imperial&APPID=7f67c78627c62ce245c39367d6ec692e&q=severo-kurilsk\n"
     ]
    }
   ],
   "source": [
    "# Create empty lists to append the API data into lists \n",
    "city_name = []\n",
    "cloudiness = []\n",
    "country = []\n",
    "date = []\n",
    "humidity = []\n",
    "lat = []\n",
    "lng = []\n",
    "max_temp = []\n",
    "wind_speed = []\n",
    "\n",
    "# Start the call counter \n",
    "record = 1\n",
    "\n",
    "# Log file print statement\n",
    "print(f\"Beginning Data Retrieval\")\n",
    "print(f\"-------------------------------\")\n",
    "\n",
    "#Loop through the cities in the city list \n",
    "for city in cities:  \n",
    "    \n",
    "# Try statement to append calls where value is found \n",
    "# Not all calls return data as OpenWeatherMap will not have have records in all the cities generated by CityPy module\n",
    "    try: \n",
    "        response = requests.get(f\"{url}&q={city}\").json() \n",
    "        city_name.append(response[\"name\"])\n",
    "        cloudiness.append(response[\"clouds\"][\"all\"])\n",
    "        country.append(response[\"sys\"][\"country\"])\n",
    "        date.append(response[\"dt\"])\n",
    "        humidity.append(response[\"main\"][\"humidity\"])\n",
    "        max_temp.append(response[\"main\"][\"temp_max\"])\n",
    "        lat.append(response[\"coord\"][\"lat\"])\n",
    "        lng.append(response[\"coord\"][\"lon\"])\n",
    "        wind_speed.append(response[\"wind\"][\"speed\"])\n",
    "        city_record = response[\"name\"]\n",
    "        print(f\"Processing Record {record} | {city_record}\")\n",
    "        print(f\"{url}&q={city}\")\n",
    "        \n",
    "# Increase counter by one \n",
    "        record= record + 1\n",
    "        \n",
    "# Wait a second in loop to not over exceed rate limit of API\n",
    "        time.sleep(1.01)\n",
    "        \n",
    "# If no record found \"skip\" to next call\n",
    "    except:\n",
    "        print(\"City not found. Skipping...\")\n",
    "    continue"
   ]
  },
  {
   "cell_type": "code",
   "execution_count": null,
   "metadata": {},
   "outputs": [],
   "source": []
  },
  {
   "cell_type": "markdown",
   "metadata": {},
   "source": [
    "### Plotting the Data\n",
    "* Use proper labeling of the plots using plot titles (including date of analysis) and axes labels.\n",
    "* Save the plotted figures as .pngs."
   ]
  },
  {
   "cell_type": "markdown",
   "metadata": {},
   "source": [
    "#### Latitude vs. Temperature Plot"
   ]
  },
  {
   "cell_type": "code",
   "execution_count": null,
   "metadata": {},
   "outputs": [],
   "source": []
  },
  {
   "cell_type": "markdown",
   "metadata": {},
   "source": [
    "#### Latitude vs. Humidity Plot"
   ]
  },
  {
   "cell_type": "code",
   "execution_count": null,
   "metadata": {},
   "outputs": [],
   "source": []
  },
  {
   "cell_type": "markdown",
   "metadata": {},
   "source": [
    "#### Latitude vs. Cloudiness Plot"
   ]
  },
  {
   "cell_type": "code",
   "execution_count": null,
   "metadata": {},
   "outputs": [],
   "source": []
  },
  {
   "cell_type": "markdown",
   "metadata": {},
   "source": [
    "#### Latitude vs. Wind Speed Plot"
   ]
  },
  {
   "cell_type": "code",
   "execution_count": null,
   "metadata": {},
   "outputs": [],
   "source": []
  },
  {
   "cell_type": "code",
   "execution_count": null,
   "metadata": {},
   "outputs": [],
   "source": []
  }
 ],
 "metadata": {
  "anaconda-cloud": {},
  "kernel_info": {
   "name": "python3"
  },
  "kernelspec": {
   "display_name": "Python 3",
   "language": "python",
   "name": "python3"
  },
  "nteract": {
   "version": "0.12.3"
  }
 },
 "nbformat": 4,
 "nbformat_minor": 2
}
